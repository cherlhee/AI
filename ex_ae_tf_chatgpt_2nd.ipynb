{
  "nbformat": 4,
  "nbformat_minor": 0,
  "metadata": {
    "colab": {
      "provenance": [],
      "gpuType": "T4",
      "authorship_tag": "ABX9TyNG0XP5fKzLcADv+1zxhmkg",
      "include_colab_link": true
    },
    "kernelspec": {
      "name": "python3",
      "display_name": "Python 3"
    },
    "language_info": {
      "name": "python"
    },
    "accelerator": "GPU"
  },
  "cells": [
    {
      "cell_type": "markdown",
      "metadata": {
        "id": "view-in-github",
        "colab_type": "text"
      },
      "source": [
        "<a href=\"https://colab.research.google.com/github/cherlhee/AI/blob/master/ex_ae_tf_chatgpt_2nd.ipynb\" target=\"_parent\"><img src=\"https://colab.research.google.com/assets/colab-badge.svg\" alt=\"Open In Colab\"/></a>"
      ]
    },
    {
      "cell_type": "markdown",
      "source": [],
      "metadata": {
        "id": "vGQYyY7EMtb5"
      }
    },
    {
      "cell_type": "code",
      "source": [
        "import matplotlib.pyplot as plt\n",
        "import numpy as np\n",
        "import pandas as pd\n",
        "import tensorflow as tf\n",
        "\n",
        "from sklearn.metrics import accuracy_score, precision_score, recall_score\n",
        "from sklearn.model_selection import train_test_split\n",
        "from tensorflow.keras import layers, losses\n",
        "from tensorflow.keras.datasets import fashion_mnist\n",
        "from tensorflow.keras.models import Model"
      ],
      "metadata": {
        "id": "ey3k5gyoMRJ2"
      },
      "execution_count": 70,
      "outputs": []
    },
    {
      "cell_type": "code",
      "source": [
        "# Download the dataset\n",
        "# to clone data from github;\n",
        "!git clone https://github.com/cherlhee/na_ai_daegu_univ.git"
      ],
      "metadata": {
        "colab": {
          "base_uri": "https://localhost:8080/"
        },
        "id": "jEEnNSyeM3-M",
        "outputId": "b52e0621-17c6-46f0-d372-a8b9eb41c605"
      },
      "execution_count": 71,
      "outputs": [
        {
          "output_type": "stream",
          "name": "stdout",
          "text": [
            "fatal: destination path 'na_ai_daegu_univ' already exists and is not an empty directory.\n"
          ]
        }
      ]
    },
    {
      "cell_type": "code",
      "source": [
        "# to load dataset;\n",
        "df = pd.read_csv('./na_ai_daegu_univ/aispark-dataset/train_data.csv')\n",
        "df"
      ],
      "metadata": {
        "colab": {
          "base_uri": "https://localhost:8080/",
          "height": 424
        },
        "id": "AuDE8KObNC6N",
        "outputId": "8a5fa700-a6e8-4bc1-daa2-960a94d34f37"
      },
      "execution_count": 72,
      "outputs": [
        {
          "output_type": "execute_result",
          "data": {
            "text/plain": [
              "      air_inflow  air_end_temp  out_pressure  motor_current  motor_rpm  \\\n",
              "0           1.59         41.00           0.7          20.53     1680.0   \n",
              "1           2.97         59.28           0.7          38.40     3142.0   \n",
              "2           1.91         45.29           0.7          24.73     2023.0   \n",
              "3           2.37         51.33           0.7          30.63     2506.0   \n",
              "4           1.90         45.21           0.7          24.65     2017.0   \n",
              "...          ...           ...           ...            ...        ...   \n",
              "2458        2.28         50.20           0.7          29.53     2416.0   \n",
              "2459        2.04         46.94           0.7          26.34     2155.0   \n",
              "2460        1.19         35.74           0.7          15.39     1259.0   \n",
              "2461        1.21         36.00           0.7          15.64     1280.0   \n",
              "2462        2.72         55.99           0.7          35.19     2879.0   \n",
              "\n",
              "      motor_temp  motor_vibe  type  \n",
              "0          58.67        2.93     0  \n",
              "1          74.91        3.75     0  \n",
              "2          62.48        3.12     0  \n",
              "3          67.84        3.39     0  \n",
              "4          62.41        3.12     0  \n",
              "...          ...         ...   ...  \n",
              "2458       66.84        3.34     7  \n",
              "2459       63.94        3.20     7  \n",
              "2460       53.99        2.70     7  \n",
              "2461       54.22        2.71     7  \n",
              "2462       71.99        3.60     7  \n",
              "\n",
              "[2463 rows x 8 columns]"
            ],
            "text/html": [
              "\n",
              "  <div id=\"df-bfbf95b1-ab8b-446f-b6bf-2f8f5e57fac8\">\n",
              "    <div class=\"colab-df-container\">\n",
              "      <div>\n",
              "<style scoped>\n",
              "    .dataframe tbody tr th:only-of-type {\n",
              "        vertical-align: middle;\n",
              "    }\n",
              "\n",
              "    .dataframe tbody tr th {\n",
              "        vertical-align: top;\n",
              "    }\n",
              "\n",
              "    .dataframe thead th {\n",
              "        text-align: right;\n",
              "    }\n",
              "</style>\n",
              "<table border=\"1\" class=\"dataframe\">\n",
              "  <thead>\n",
              "    <tr style=\"text-align: right;\">\n",
              "      <th></th>\n",
              "      <th>air_inflow</th>\n",
              "      <th>air_end_temp</th>\n",
              "      <th>out_pressure</th>\n",
              "      <th>motor_current</th>\n",
              "      <th>motor_rpm</th>\n",
              "      <th>motor_temp</th>\n",
              "      <th>motor_vibe</th>\n",
              "      <th>type</th>\n",
              "    </tr>\n",
              "  </thead>\n",
              "  <tbody>\n",
              "    <tr>\n",
              "      <th>0</th>\n",
              "      <td>1.59</td>\n",
              "      <td>41.00</td>\n",
              "      <td>0.7</td>\n",
              "      <td>20.53</td>\n",
              "      <td>1680.0</td>\n",
              "      <td>58.67</td>\n",
              "      <td>2.93</td>\n",
              "      <td>0</td>\n",
              "    </tr>\n",
              "    <tr>\n",
              "      <th>1</th>\n",
              "      <td>2.97</td>\n",
              "      <td>59.28</td>\n",
              "      <td>0.7</td>\n",
              "      <td>38.40</td>\n",
              "      <td>3142.0</td>\n",
              "      <td>74.91</td>\n",
              "      <td>3.75</td>\n",
              "      <td>0</td>\n",
              "    </tr>\n",
              "    <tr>\n",
              "      <th>2</th>\n",
              "      <td>1.91</td>\n",
              "      <td>45.29</td>\n",
              "      <td>0.7</td>\n",
              "      <td>24.73</td>\n",
              "      <td>2023.0</td>\n",
              "      <td>62.48</td>\n",
              "      <td>3.12</td>\n",
              "      <td>0</td>\n",
              "    </tr>\n",
              "    <tr>\n",
              "      <th>3</th>\n",
              "      <td>2.37</td>\n",
              "      <td>51.33</td>\n",
              "      <td>0.7</td>\n",
              "      <td>30.63</td>\n",
              "      <td>2506.0</td>\n",
              "      <td>67.84</td>\n",
              "      <td>3.39</td>\n",
              "      <td>0</td>\n",
              "    </tr>\n",
              "    <tr>\n",
              "      <th>4</th>\n",
              "      <td>1.90</td>\n",
              "      <td>45.21</td>\n",
              "      <td>0.7</td>\n",
              "      <td>24.65</td>\n",
              "      <td>2017.0</td>\n",
              "      <td>62.41</td>\n",
              "      <td>3.12</td>\n",
              "      <td>0</td>\n",
              "    </tr>\n",
              "    <tr>\n",
              "      <th>...</th>\n",
              "      <td>...</td>\n",
              "      <td>...</td>\n",
              "      <td>...</td>\n",
              "      <td>...</td>\n",
              "      <td>...</td>\n",
              "      <td>...</td>\n",
              "      <td>...</td>\n",
              "      <td>...</td>\n",
              "    </tr>\n",
              "    <tr>\n",
              "      <th>2458</th>\n",
              "      <td>2.28</td>\n",
              "      <td>50.20</td>\n",
              "      <td>0.7</td>\n",
              "      <td>29.53</td>\n",
              "      <td>2416.0</td>\n",
              "      <td>66.84</td>\n",
              "      <td>3.34</td>\n",
              "      <td>7</td>\n",
              "    </tr>\n",
              "    <tr>\n",
              "      <th>2459</th>\n",
              "      <td>2.04</td>\n",
              "      <td>46.94</td>\n",
              "      <td>0.7</td>\n",
              "      <td>26.34</td>\n",
              "      <td>2155.0</td>\n",
              "      <td>63.94</td>\n",
              "      <td>3.20</td>\n",
              "      <td>7</td>\n",
              "    </tr>\n",
              "    <tr>\n",
              "      <th>2460</th>\n",
              "      <td>1.19</td>\n",
              "      <td>35.74</td>\n",
              "      <td>0.7</td>\n",
              "      <td>15.39</td>\n",
              "      <td>1259.0</td>\n",
              "      <td>53.99</td>\n",
              "      <td>2.70</td>\n",
              "      <td>7</td>\n",
              "    </tr>\n",
              "    <tr>\n",
              "      <th>2461</th>\n",
              "      <td>1.21</td>\n",
              "      <td>36.00</td>\n",
              "      <td>0.7</td>\n",
              "      <td>15.64</td>\n",
              "      <td>1280.0</td>\n",
              "      <td>54.22</td>\n",
              "      <td>2.71</td>\n",
              "      <td>7</td>\n",
              "    </tr>\n",
              "    <tr>\n",
              "      <th>2462</th>\n",
              "      <td>2.72</td>\n",
              "      <td>55.99</td>\n",
              "      <td>0.7</td>\n",
              "      <td>35.19</td>\n",
              "      <td>2879.0</td>\n",
              "      <td>71.99</td>\n",
              "      <td>3.60</td>\n",
              "      <td>7</td>\n",
              "    </tr>\n",
              "  </tbody>\n",
              "</table>\n",
              "<p>2463 rows × 8 columns</p>\n",
              "</div>\n",
              "      <button class=\"colab-df-convert\" onclick=\"convertToInteractive('df-bfbf95b1-ab8b-446f-b6bf-2f8f5e57fac8')\"\n",
              "              title=\"Convert this dataframe to an interactive table.\"\n",
              "              style=\"display:none;\">\n",
              "        \n",
              "  <svg xmlns=\"http://www.w3.org/2000/svg\" height=\"24px\"viewBox=\"0 0 24 24\"\n",
              "       width=\"24px\">\n",
              "    <path d=\"M0 0h24v24H0V0z\" fill=\"none\"/>\n",
              "    <path d=\"M18.56 5.44l.94 2.06.94-2.06 2.06-.94-2.06-.94-.94-2.06-.94 2.06-2.06.94zm-11 1L8.5 8.5l.94-2.06 2.06-.94-2.06-.94L8.5 2.5l-.94 2.06-2.06.94zm10 10l.94 2.06.94-2.06 2.06-.94-2.06-.94-.94-2.06-.94 2.06-2.06.94z\"/><path d=\"M17.41 7.96l-1.37-1.37c-.4-.4-.92-.59-1.43-.59-.52 0-1.04.2-1.43.59L10.3 9.45l-7.72 7.72c-.78.78-.78 2.05 0 2.83L4 21.41c.39.39.9.59 1.41.59.51 0 1.02-.2 1.41-.59l7.78-7.78 2.81-2.81c.8-.78.8-2.07 0-2.86zM5.41 20L4 18.59l7.72-7.72 1.47 1.35L5.41 20z\"/>\n",
              "  </svg>\n",
              "      </button>\n",
              "      \n",
              "  <style>\n",
              "    .colab-df-container {\n",
              "      display:flex;\n",
              "      flex-wrap:wrap;\n",
              "      gap: 12px;\n",
              "    }\n",
              "\n",
              "    .colab-df-convert {\n",
              "      background-color: #E8F0FE;\n",
              "      border: none;\n",
              "      border-radius: 50%;\n",
              "      cursor: pointer;\n",
              "      display: none;\n",
              "      fill: #1967D2;\n",
              "      height: 32px;\n",
              "      padding: 0 0 0 0;\n",
              "      width: 32px;\n",
              "    }\n",
              "\n",
              "    .colab-df-convert:hover {\n",
              "      background-color: #E2EBFA;\n",
              "      box-shadow: 0px 1px 2px rgba(60, 64, 67, 0.3), 0px 1px 3px 1px rgba(60, 64, 67, 0.15);\n",
              "      fill: #174EA6;\n",
              "    }\n",
              "\n",
              "    [theme=dark] .colab-df-convert {\n",
              "      background-color: #3B4455;\n",
              "      fill: #D2E3FC;\n",
              "    }\n",
              "\n",
              "    [theme=dark] .colab-df-convert:hover {\n",
              "      background-color: #434B5C;\n",
              "      box-shadow: 0px 1px 3px 1px rgba(0, 0, 0, 0.15);\n",
              "      filter: drop-shadow(0px 1px 2px rgba(0, 0, 0, 0.3));\n",
              "      fill: #FFFFFF;\n",
              "    }\n",
              "  </style>\n",
              "\n",
              "      <script>\n",
              "        const buttonEl =\n",
              "          document.querySelector('#df-bfbf95b1-ab8b-446f-b6bf-2f8f5e57fac8 button.colab-df-convert');\n",
              "        buttonEl.style.display =\n",
              "          google.colab.kernel.accessAllowed ? 'block' : 'none';\n",
              "\n",
              "        async function convertToInteractive(key) {\n",
              "          const element = document.querySelector('#df-bfbf95b1-ab8b-446f-b6bf-2f8f5e57fac8');\n",
              "          const dataTable =\n",
              "            await google.colab.kernel.invokeFunction('convertToInteractive',\n",
              "                                                     [key], {});\n",
              "          if (!dataTable) return;\n",
              "\n",
              "          const docLinkHtml = 'Like what you see? Visit the ' +\n",
              "            '<a target=\"_blank\" href=https://colab.research.google.com/notebooks/data_table.ipynb>data table notebook</a>'\n",
              "            + ' to learn more about interactive tables.';\n",
              "          element.innerHTML = '';\n",
              "          dataTable['output_type'] = 'display_data';\n",
              "          await google.colab.output.renderOutput(dataTable, element);\n",
              "          const docLink = document.createElement('div');\n",
              "          docLink.innerHTML = docLinkHtml;\n",
              "          element.appendChild(docLink);\n",
              "        }\n",
              "      </script>\n",
              "    </div>\n",
              "  </div>\n",
              "  "
            ]
          },
          "metadata": {},
          "execution_count": 72
        }
      ]
    },
    {
      "cell_type": "code",
      "source": [
        "numRows, numColumns = df.shape\n",
        "print('num of rows;{}, num of columns;{}'.format(numRows, numColumns))"
      ],
      "metadata": {
        "colab": {
          "base_uri": "https://localhost:8080/"
        },
        "id": "4Ny8PsrINIps",
        "outputId": "74f5b161-26b8-4b00-d9c8-f3d678302539"
      },
      "execution_count": 73,
      "outputs": [
        {
          "output_type": "stream",
          "name": "stdout",
          "text": [
            "num of rows;2463, num of columns;8\n"
          ]
        }
      ]
    },
    {
      "cell_type": "code",
      "source": [
        "raw_data = df.values\n",
        "df.head()"
      ],
      "metadata": {
        "colab": {
          "base_uri": "https://localhost:8080/",
          "height": 206
        },
        "id": "0-bk8v-9NPZy",
        "outputId": "bb722b3d-cea2-4f83-bd58-160a3d5e05ea"
      },
      "execution_count": 74,
      "outputs": [
        {
          "output_type": "execute_result",
          "data": {
            "text/plain": [
              "   air_inflow  air_end_temp  out_pressure  motor_current  motor_rpm  \\\n",
              "0        1.59         41.00           0.7          20.53     1680.0   \n",
              "1        2.97         59.28           0.7          38.40     3142.0   \n",
              "2        1.91         45.29           0.7          24.73     2023.0   \n",
              "3        2.37         51.33           0.7          30.63     2506.0   \n",
              "4        1.90         45.21           0.7          24.65     2017.0   \n",
              "\n",
              "   motor_temp  motor_vibe  type  \n",
              "0       58.67        2.93     0  \n",
              "1       74.91        3.75     0  \n",
              "2       62.48        3.12     0  \n",
              "3       67.84        3.39     0  \n",
              "4       62.41        3.12     0  "
            ],
            "text/html": [
              "\n",
              "  <div id=\"df-a76c59d2-95be-426e-bfb4-8989d90e7c12\">\n",
              "    <div class=\"colab-df-container\">\n",
              "      <div>\n",
              "<style scoped>\n",
              "    .dataframe tbody tr th:only-of-type {\n",
              "        vertical-align: middle;\n",
              "    }\n",
              "\n",
              "    .dataframe tbody tr th {\n",
              "        vertical-align: top;\n",
              "    }\n",
              "\n",
              "    .dataframe thead th {\n",
              "        text-align: right;\n",
              "    }\n",
              "</style>\n",
              "<table border=\"1\" class=\"dataframe\">\n",
              "  <thead>\n",
              "    <tr style=\"text-align: right;\">\n",
              "      <th></th>\n",
              "      <th>air_inflow</th>\n",
              "      <th>air_end_temp</th>\n",
              "      <th>out_pressure</th>\n",
              "      <th>motor_current</th>\n",
              "      <th>motor_rpm</th>\n",
              "      <th>motor_temp</th>\n",
              "      <th>motor_vibe</th>\n",
              "      <th>type</th>\n",
              "    </tr>\n",
              "  </thead>\n",
              "  <tbody>\n",
              "    <tr>\n",
              "      <th>0</th>\n",
              "      <td>1.59</td>\n",
              "      <td>41.00</td>\n",
              "      <td>0.7</td>\n",
              "      <td>20.53</td>\n",
              "      <td>1680.0</td>\n",
              "      <td>58.67</td>\n",
              "      <td>2.93</td>\n",
              "      <td>0</td>\n",
              "    </tr>\n",
              "    <tr>\n",
              "      <th>1</th>\n",
              "      <td>2.97</td>\n",
              "      <td>59.28</td>\n",
              "      <td>0.7</td>\n",
              "      <td>38.40</td>\n",
              "      <td>3142.0</td>\n",
              "      <td>74.91</td>\n",
              "      <td>3.75</td>\n",
              "      <td>0</td>\n",
              "    </tr>\n",
              "    <tr>\n",
              "      <th>2</th>\n",
              "      <td>1.91</td>\n",
              "      <td>45.29</td>\n",
              "      <td>0.7</td>\n",
              "      <td>24.73</td>\n",
              "      <td>2023.0</td>\n",
              "      <td>62.48</td>\n",
              "      <td>3.12</td>\n",
              "      <td>0</td>\n",
              "    </tr>\n",
              "    <tr>\n",
              "      <th>3</th>\n",
              "      <td>2.37</td>\n",
              "      <td>51.33</td>\n",
              "      <td>0.7</td>\n",
              "      <td>30.63</td>\n",
              "      <td>2506.0</td>\n",
              "      <td>67.84</td>\n",
              "      <td>3.39</td>\n",
              "      <td>0</td>\n",
              "    </tr>\n",
              "    <tr>\n",
              "      <th>4</th>\n",
              "      <td>1.90</td>\n",
              "      <td>45.21</td>\n",
              "      <td>0.7</td>\n",
              "      <td>24.65</td>\n",
              "      <td>2017.0</td>\n",
              "      <td>62.41</td>\n",
              "      <td>3.12</td>\n",
              "      <td>0</td>\n",
              "    </tr>\n",
              "  </tbody>\n",
              "</table>\n",
              "</div>\n",
              "      <button class=\"colab-df-convert\" onclick=\"convertToInteractive('df-a76c59d2-95be-426e-bfb4-8989d90e7c12')\"\n",
              "              title=\"Convert this dataframe to an interactive table.\"\n",
              "              style=\"display:none;\">\n",
              "        \n",
              "  <svg xmlns=\"http://www.w3.org/2000/svg\" height=\"24px\"viewBox=\"0 0 24 24\"\n",
              "       width=\"24px\">\n",
              "    <path d=\"M0 0h24v24H0V0z\" fill=\"none\"/>\n",
              "    <path d=\"M18.56 5.44l.94 2.06.94-2.06 2.06-.94-2.06-.94-.94-2.06-.94 2.06-2.06.94zm-11 1L8.5 8.5l.94-2.06 2.06-.94-2.06-.94L8.5 2.5l-.94 2.06-2.06.94zm10 10l.94 2.06.94-2.06 2.06-.94-2.06-.94-.94-2.06-.94 2.06-2.06.94z\"/><path d=\"M17.41 7.96l-1.37-1.37c-.4-.4-.92-.59-1.43-.59-.52 0-1.04.2-1.43.59L10.3 9.45l-7.72 7.72c-.78.78-.78 2.05 0 2.83L4 21.41c.39.39.9.59 1.41.59.51 0 1.02-.2 1.41-.59l7.78-7.78 2.81-2.81c.8-.78.8-2.07 0-2.86zM5.41 20L4 18.59l7.72-7.72 1.47 1.35L5.41 20z\"/>\n",
              "  </svg>\n",
              "      </button>\n",
              "      \n",
              "  <style>\n",
              "    .colab-df-container {\n",
              "      display:flex;\n",
              "      flex-wrap:wrap;\n",
              "      gap: 12px;\n",
              "    }\n",
              "\n",
              "    .colab-df-convert {\n",
              "      background-color: #E8F0FE;\n",
              "      border: none;\n",
              "      border-radius: 50%;\n",
              "      cursor: pointer;\n",
              "      display: none;\n",
              "      fill: #1967D2;\n",
              "      height: 32px;\n",
              "      padding: 0 0 0 0;\n",
              "      width: 32px;\n",
              "    }\n",
              "\n",
              "    .colab-df-convert:hover {\n",
              "      background-color: #E2EBFA;\n",
              "      box-shadow: 0px 1px 2px rgba(60, 64, 67, 0.3), 0px 1px 3px 1px rgba(60, 64, 67, 0.15);\n",
              "      fill: #174EA6;\n",
              "    }\n",
              "\n",
              "    [theme=dark] .colab-df-convert {\n",
              "      background-color: #3B4455;\n",
              "      fill: #D2E3FC;\n",
              "    }\n",
              "\n",
              "    [theme=dark] .colab-df-convert:hover {\n",
              "      background-color: #434B5C;\n",
              "      box-shadow: 0px 1px 3px 1px rgba(0, 0, 0, 0.15);\n",
              "      filter: drop-shadow(0px 1px 2px rgba(0, 0, 0, 0.3));\n",
              "      fill: #FFFFFF;\n",
              "    }\n",
              "  </style>\n",
              "\n",
              "      <script>\n",
              "        const buttonEl =\n",
              "          document.querySelector('#df-a76c59d2-95be-426e-bfb4-8989d90e7c12 button.colab-df-convert');\n",
              "        buttonEl.style.display =\n",
              "          google.colab.kernel.accessAllowed ? 'block' : 'none';\n",
              "\n",
              "        async function convertToInteractive(key) {\n",
              "          const element = document.querySelector('#df-a76c59d2-95be-426e-bfb4-8989d90e7c12');\n",
              "          const dataTable =\n",
              "            await google.colab.kernel.invokeFunction('convertToInteractive',\n",
              "                                                     [key], {});\n",
              "          if (!dataTable) return;\n",
              "\n",
              "          const docLinkHtml = 'Like what you see? Visit the ' +\n",
              "            '<a target=\"_blank\" href=https://colab.research.google.com/notebooks/data_table.ipynb>data table notebook</a>'\n",
              "            + ' to learn more about interactive tables.';\n",
              "          element.innerHTML = '';\n",
              "          dataTable['output_type'] = 'display_data';\n",
              "          await google.colab.output.renderOutput(dataTable, element);\n",
              "          const docLink = document.createElement('div');\n",
              "          docLink.innerHTML = docLinkHtml;\n",
              "          element.appendChild(docLink);\n",
              "        }\n",
              "      </script>\n",
              "    </div>\n",
              "  </div>\n",
              "  "
            ]
          },
          "metadata": {},
          "execution_count": 74
        }
      ]
    },
    {
      "cell_type": "code",
      "source": [
        "# train_data, test_data = train_test_split(raw_data, test_size=0.2, random_state=21)\n",
        "train_data = raw_data"
      ],
      "metadata": {
        "id": "3e6ksRMENRDZ"
      },
      "execution_count": 75,
      "outputs": []
    },
    {
      "cell_type": "code",
      "source": [
        "# to normalize data to [0,1];\n",
        "\n",
        "# to find maximum and minimum value;\n",
        "min_val = tf.reduce_min(train_data)\n",
        "max_val = tf.reduce_max(train_data)\n",
        "\n",
        "# to do normalization;\n",
        "train_data = (train_data - min_val) / (max_val - min_val)\n",
        "# test_data = (test_data - min_val) / (max_val - min_val)\n",
        "\n",
        "# to transform data type to float32;\n",
        "train_data = tf.cast(train_data, tf.float32)\n",
        "# test_data = tf.cast(test_data, tf.float32)"
      ],
      "metadata": {
        "id": "ftF0vxTWNWVK"
      },
      "execution_count": 76,
      "outputs": []
    },
    {
      "cell_type": "code",
      "source": [
        "normal_train_data = train_data\n",
        "normal_train_data[0]"
      ],
      "metadata": {
        "colab": {
          "base_uri": "https://localhost:8080/"
        },
        "id": "uhWSL834NbHp",
        "outputId": "0e903e8d-5a95-4ca5-91e4-6367b2fb955e"
      },
      "execution_count": 77,
      "outputs": [
        {
          "output_type": "execute_result",
          "data": {
            "text/plain": [
              "<tf.Tensor: shape=(8,), dtype=float32, numpy=\n",
              "array([4.4612796e-04, 1.1503928e-02, 1.9640852e-04, 5.7603815e-03,\n",
              "       4.7138047e-01, 1.6461840e-02, 8.2210999e-04, 0.0000000e+00],\n",
              "      dtype=float32)>"
            ]
          },
          "metadata": {},
          "execution_count": 77
        }
      ]
    },
    {
      "cell_type": "code",
      "source": [
        "# to draw samples;\n",
        "\n",
        "plt.grid()\n",
        "plt.plot(np.arange(numColumns), normal_train_data[0], 'r-o')\n",
        "plt.title(\"A Normal data\")\n",
        "plt.show()"
      ],
      "metadata": {
        "colab": {
          "base_uri": "https://localhost:8080/",
          "height": 452
        },
        "id": "0ZvpVRHfNlj5",
        "outputId": "73d81c2c-3ddc-4b65-c8cd-8508b7fd5974"
      },
      "execution_count": 78,
      "outputs": [
        {
          "output_type": "display_data",
          "data": {
            "text/plain": [
              "<Figure size 640x480 with 1 Axes>"
            ],
            "image/png": "[encoded data removed]"
          },
          "metadata": {}
        }
      ]
    },
    {
      "cell_type": "code",
      "source": [
        "df_test = pd.read_csv('./na_ai_daegu_univ/aispark-dataset/test_data.csv')\n",
        "# df_test\n",
        "\n",
        "\n",
        "test_data = df_test.values\n",
        "print('test data;', test_data)\n",
        "\n",
        "numRowsTest, numColumnsTest = df_test.shape\n",
        "print('num of testdata rows;{}, num of testdata columns;{}'.format(numRowsTest, numColumnsTest))\n"
      ],
      "metadata": {
        "colab": {
          "base_uri": "https://localhost:8080/"
        },
        "id": "gevTMpysOf82",
        "outputId": "0677584e-0ac8-469b-afb0-b1b89df2e09f"
      },
      "execution_count": 79,
      "outputs": [
        {
          "output_type": "stream",
          "name": "stdout",
          "text": [
            "test data; [[ 2.51 53.28  0.7  ... 69.58  3.48  0.  ]\n",
            " [ 2.66 55.24  0.7  ... 71.32  3.57  0.  ]\n",
            " [ 1.72 42.74  0.7  ... 60.21  3.01  0.  ]\n",
            " ...\n",
            " [ 1.56 40.61  0.7  ... 58.32  2.92  7.  ]\n",
            " [ 1.59 40.99  0.7  ... 58.66  2.93  7.  ]\n",
            " [ 1.7  42.51  0.7  ... 60.01  3.    7.  ]]\n",
            "num of testdata rows;7389, num of testdata columns;8\n"
          ]
        }
      ]
    },
    {
      "cell_type": "code",
      "source": [
        "# # to normalize data to [0,1];\n",
        "\n",
        "# # to find maximum and minimum value;\n",
        "min_val_test = tf.reduce_min(test_data)\n",
        "max_val_test = tf.reduce_max(test_data)\n",
        "\n",
        "# # to do normalization;\n",
        "test_data = (test_data - min_val_test) / (max_val_test - min_val_test)\n",
        "\n",
        "# # to transform data type to float32;\n",
        "test_data = tf.cast(test_data, tf.float32)\n",
        "\n",
        "test_data"
      ],
      "metadata": {
        "colab": {
          "base_uri": "https://localhost:8080/"
        },
        "id": "oPtYlWHYOtIU",
        "outputId": "4be73545-db6d-4866-dbfa-cbdfd31e7a2d"
      },
      "execution_count": 80,
      "outputs": [
        {
          "output_type": "execute_result",
          "data": {
            "text/plain": [
              "<tf.Tensor: shape=(7389, 8), dtype=float32, numpy=\n",
              "array([[0.00070426, 0.01494949, 0.00019641, ..., 0.01952301, 0.00097643,\n",
              "        0.        ],\n",
              "       [0.00074635, 0.01549944, 0.00019641, ..., 0.02001122, 0.00100168,\n",
              "        0.        ],\n",
              "       [0.0004826 , 0.01199214, 0.00019641, ..., 0.01689394, 0.00084456,\n",
              "        0.        ],\n",
              "       ...,\n",
              "       [0.00043771, 0.0113945 , 0.00019641, ..., 0.01636364, 0.0008193 ,\n",
              "        0.00196409],\n",
              "       [0.00044613, 0.01150112, 0.00019641, ..., 0.01645903, 0.00082211,\n",
              "        0.00196409],\n",
              "       [0.00047699, 0.01192761, 0.00019641, ..., 0.01683782, 0.00084175,\n",
              "        0.00196409]], dtype=float32)>"
            ]
          },
          "metadata": {},
          "execution_count": 80
        }
      ]
    },
    {
      "cell_type": "code",
      "source": [
        "normal_test_data = test_data\n",
        "normal_test_data[0]"
      ],
      "metadata": {
        "colab": {
          "base_uri": "https://localhost:8080/"
        },
        "id": "FXg7Vr4a6QJI",
        "outputId": "5d72c393-50f8-4a62-a847-fbd1ae13b163"
      },
      "execution_count": 81,
      "outputs": [
        {
          "output_type": "execute_result",
          "data": {
            "text/plain": [
              "<tf.Tensor: shape=(8,), dtype=float32, numpy=\n",
              "array([7.0426485e-04, 1.4949495e-02, 1.9640852e-04, 9.1301911e-03,\n",
              "       7.4691355e-01, 1.9523008e-02, 9.7643095e-04, 0.0000000e+00],\n",
              "      dtype=float32)>"
            ]
          },
          "metadata": {},
          "execution_count": 81
        }
      ]
    },
    {
      "cell_type": "code",
      "source": [
        "\n",
        "plt.grid()\n",
        "plt.plot(np.arange(numColumns), normal_test_data[0], 'r-o')\n",
        "plt.title(\"A Normal data\")\n",
        "plt.show()"
      ],
      "metadata": {
        "colab": {
          "base_uri": "https://localhost:8080/",
          "height": 452
        },
        "id": "aNlDAuff54Y3",
        "outputId": "73bd4f61-f4f6-493c-d206-330af67b5fc7"
      },
      "execution_count": 82,
      "outputs": [
        {
          "output_type": "display_data",
          "data": {
            "text/plain": [
              "<Figure size 640x480 with 1 Axes>"
            ],
            "image/png": "[encoded data removed]"
          },
          "metadata": {}
        }
      ]
    },
    {
      "cell_type": "code",
      "source": [
        "# Define the autoencoder architecture\n",
        "\n",
        "input_shape = (numColumns,)\n",
        "encoding_dim = 6\n",
        "\n",
        "inputs = tf.keras.Input(shape=input_shape)\n",
        "\n",
        "encoded = tf.keras.layers.Dense(encoding_dim, activation='relu')(inputs)\n",
        "decoded = tf.keras.layers.Dense(numColumns, activation='sigmoid')(encoded)\n",
        "\n",
        "autoencoder = tf.keras.Model(inputs, decoded)\n",
        "autoencoder.summary()"
      ],
      "metadata": {
        "colab": {
          "base_uri": "https://localhost:8080/"
        },
        "id": "fweyM8p5D8sB",
        "outputId": "cf274898-d946-4527-a344-52d8fcc029ba"
      },
      "execution_count": 83,
      "outputs": [
        {
          "output_type": "stream",
          "name": "stdout",
          "text": [
            "Model: \"model_3\"\n",
            "_________________________________________________________________\n",
            " Layer (type)                Output Shape              Param #   \n",
            "=================================================================\n",
            " input_4 (InputLayer)        [(None, 8)]               0         \n",
            "                                                                 \n",
            " dense_6 (Dense)             (None, 6)                 54        \n",
            "                                                                 \n",
            " dense_7 (Dense)             (None, 8)                 56        \n",
            "                                                                 \n",
            "=================================================================\n",
            "Total params: 110\n",
            "Trainable params: 110\n",
            "Non-trainable params: 0\n",
            "_________________________________________________________________\n"
          ]
        }
      ]
    },
    {
      "cell_type": "code",
      "source": [
        "\n",
        "\n",
        "\n",
        "# Compile the model\n",
        "autoencoder.compile(optimizer='adam', loss='binary_crossentropy', metrics=['accuracy'])\n",
        "# autoencoder.compile(optimizer='adam', loss='sparse_categorical_crossentropy', metrics=['accuracy'])\n",
        "\n",
        "# opt = tf.keras.optimizers.RMSprop(learning_rate=0.001)\n",
        "# autoencoder.compile(optimizer=opt, loss='mse', metrics=['accuracy'])\n"
      ],
      "metadata": {
        "id": "PavOqTxbEZrJ"
      },
      "execution_count": 84,
      "outputs": []
    },
    {
      "cell_type": "code",
      "source": [
        "# Train the model on normal data\n",
        "# x_train = ... # load normal data\n",
        "# autoencoder.fit(x_train, x_train, epochs=10, batch_size=256)\n",
        "# train_data = ... # load normal data\n",
        "ret = autoencoder.fit(train_data, train_data, epochs=40, batch_size=30)"
      ],
      "metadata": {
        "colab": {
          "base_uri": "https://localhost:8080/"
        },
        "id": "GhoWAUCuOFZL",
        "outputId": "430566b5-43f8-4c1c-9cac-a923fff2332c"
      },
      "execution_count": 85,
      "outputs": [
        {
          "output_type": "stream",
          "name": "stdout",
          "text": [
            "Epoch 1/40\n",
            "83/83 [==============================] - 2s 4ms/step - loss: 0.6565 - accuracy: 0.9618\n",
            "Epoch 2/40\n",
            "83/83 [==============================] - 0s 4ms/step - loss: 0.5521 - accuracy: 1.0000\n",
            "Epoch 3/40\n",
            "83/83 [==============================] - 0s 3ms/step - loss: 0.4445 - accuracy: 1.0000\n",
            "Epoch 4/40\n",
            "83/83 [==============================] - 0s 3ms/step - loss: 0.3438 - accuracy: 1.0000\n",
            "Epoch 5/40\n",
            "83/83 [==============================] - 0s 3ms/step - loss: 0.2643 - accuracy: 1.0000\n",
            "Epoch 6/40\n",
            "83/83 [==============================] - 0s 3ms/step - loss: 0.2095 - accuracy: 1.0000\n",
            "Epoch 7/40\n",
            "83/83 [==============================] - 0s 3ms/step - loss: 0.1744 - accuracy: 1.0000\n",
            "Epoch 8/40\n",
            "83/83 [==============================] - 0s 3ms/step - loss: 0.1523 - accuracy: 1.0000\n",
            "Epoch 9/40\n",
            "83/83 [==============================] - 0s 3ms/step - loss: 0.1383 - accuracy: 1.0000\n",
            "Epoch 10/40\n",
            "83/83 [==============================] - 0s 3ms/step - loss: 0.1291 - accuracy: 1.0000\n",
            "Epoch 11/40\n",
            "83/83 [==============================] - 0s 3ms/step - loss: 0.1229 - accuracy: 1.0000\n",
            "Epoch 12/40\n",
            "83/83 [==============================] - 0s 3ms/step - loss: 0.1185 - accuracy: 1.0000\n",
            "Epoch 13/40\n",
            "83/83 [==============================] - 0s 3ms/step - loss: 0.1154 - accuracy: 1.0000\n",
            "Epoch 14/40\n",
            "83/83 [==============================] - 0s 3ms/step - loss: 0.1131 - accuracy: 1.0000\n",
            "Epoch 15/40\n",
            "83/83 [==============================] - 0s 3ms/step - loss: 0.1114 - accuracy: 1.0000\n",
            "Epoch 16/40\n",
            "83/83 [==============================] - 0s 3ms/step - loss: 0.1100 - accuracy: 1.0000\n",
            "Epoch 17/40\n",
            "83/83 [==============================] - 0s 3ms/step - loss: 0.1090 - accuracy: 1.0000\n",
            "Epoch 18/40\n",
            "83/83 [==============================] - 0s 3ms/step - loss: 0.1081 - accuracy: 1.0000\n",
            "Epoch 19/40\n",
            "83/83 [==============================] - 0s 3ms/step - loss: 0.1074 - accuracy: 1.0000\n",
            "Epoch 20/40\n",
            "83/83 [==============================] - 0s 3ms/step - loss: 0.1068 - accuracy: 1.0000\n",
            "Epoch 21/40\n",
            "83/83 [==============================] - 0s 3ms/step - loss: 0.1062 - accuracy: 1.0000\n",
            "Epoch 22/40\n",
            "83/83 [==============================] - 0s 3ms/step - loss: 0.1057 - accuracy: 1.0000\n",
            "Epoch 23/40\n",
            "83/83 [==============================] - 0s 3ms/step - loss: 0.1052 - accuracy: 1.0000\n",
            "Epoch 24/40\n",
            "83/83 [==============================] - 0s 3ms/step - loss: 0.1048 - accuracy: 1.0000\n",
            "Epoch 25/40\n",
            "83/83 [==============================] - 0s 3ms/step - loss: 0.1043 - accuracy: 1.0000\n",
            "Epoch 26/40\n",
            "83/83 [==============================] - 0s 3ms/step - loss: 0.1039 - accuracy: 1.0000\n",
            "Epoch 27/40\n",
            "83/83 [==============================] - 0s 3ms/step - loss: 0.1035 - accuracy: 1.0000\n",
            "Epoch 28/40\n",
            "83/83 [==============================] - 0s 3ms/step - loss: 0.1031 - accuracy: 1.0000\n",
            "Epoch 29/40\n",
            "83/83 [==============================] - 0s 3ms/step - loss: 0.1027 - accuracy: 1.0000\n",
            "Epoch 30/40\n",
            "83/83 [==============================] - 0s 3ms/step - loss: 0.1023 - accuracy: 1.0000\n",
            "Epoch 31/40\n",
            "83/83 [==============================] - 0s 3ms/step - loss: 0.1019 - accuracy: 1.0000\n",
            "Epoch 32/40\n",
            "83/83 [==============================] - 0s 3ms/step - loss: 0.1016 - accuracy: 1.0000\n",
            "Epoch 33/40\n",
            "83/83 [==============================] - 0s 3ms/step - loss: 0.1012 - accuracy: 1.0000\n",
            "Epoch 34/40\n",
            "83/83 [==============================] - 0s 3ms/step - loss: 0.1009 - accuracy: 1.0000\n",
            "Epoch 35/40\n",
            "83/83 [==============================] - 0s 3ms/step - loss: 0.1006 - accuracy: 1.0000\n",
            "Epoch 36/40\n",
            "83/83 [==============================] - 0s 3ms/step - loss: 0.1003 - accuracy: 1.0000\n",
            "Epoch 37/40\n",
            "83/83 [==============================] - 0s 3ms/step - loss: 0.1000 - accuracy: 1.0000\n",
            "Epoch 38/40\n",
            "83/83 [==============================] - 0s 3ms/step - loss: 0.0998 - accuracy: 1.0000\n",
            "Epoch 39/40\n",
            "83/83 [==============================] - 0s 3ms/step - loss: 0.0996 - accuracy: 1.0000\n",
            "Epoch 40/40\n",
            "83/83 [==============================] - 0s 3ms/step - loss: 0.0994 - accuracy: 1.0000\n"
          ]
        }
      ]
    },
    {
      "cell_type": "code",
      "source": [
        "# autoencoder.evaluate(train_data, train_data)\n",
        "autoencoder.evaluate(test_data, test_data)"
      ],
      "metadata": {
        "colab": {
          "base_uri": "https://localhost:8080/"
        },
        "id": "SW8HHhDJi3P_",
        "outputId": "b7a879a6-ca0f-4f1e-f9fb-763b31488f91"
      },
      "execution_count": 86,
      "outputs": [
        {
          "output_type": "stream",
          "name": "stdout",
          "text": [
            "231/231 [==============================] - 1s 3ms/step - loss: 0.0992 - accuracy: 1.0000\n"
          ]
        },
        {
          "output_type": "execute_result",
          "data": {
            "text/plain": [
              "[0.09915948659181595, 1.0]"
            ]
          },
          "metadata": {},
          "execution_count": 86
        }
      ]
    },
    {
      "cell_type": "code",
      "source": [
        "\n",
        "\n",
        "fig, ax = plt.subplots(1, 2, figsize=(10,6))\n",
        "\n",
        "ax[0].plot(ret.history['loss'])\n",
        "ax[0].set_title('train loss')\n",
        "\n",
        "ax[1].plot(ret.history['accuracy'],'b-')\n",
        "ax[1].set_title('accuracy')\n",
        "fig.tight_layout()\n",
        "plt.show()"
      ],
      "metadata": {
        "colab": {
          "base_uri": "https://localhost:8080/",
          "height": 607
        },
        "id": "TCylRJZnEd7g",
        "outputId": "f3c7c06e-99a5-44ff-f94c-c1a24a28858a"
      },
      "execution_count": 87,
      "outputs": [
        {
          "output_type": "display_data",
          "data": {
            "text/plain": [
              "<Figure size 1000x600 with 2 Axes>"
            ],
            "image/png": "[encoded data removed]"
          },
          "metadata": {}
        }
      ]
    },
    {
      "cell_type": "code",
      "source": [
        "\n",
        "# Evaluate the model on test data\n",
        "# x_test = ... # load test data, including both normal and anomalous data\n",
        "\n",
        "reconstructions = autoencoder.predict(test_data)\n",
        "reconstructions"
      ],
      "metadata": {
        "colab": {
          "base_uri": "https://localhost:8080/"
        },
        "id": "aAxrJy8aEoGJ",
        "outputId": "0bc242c9-9329-4b6f-9b4e-ae69e264d6e7"
      },
      "execution_count": 88,
      "outputs": [
        {
          "output_type": "stream",
          "name": "stdout",
          "text": [
            "231/231 [==============================] - 1s 2ms/step\n"
          ]
        },
        {
          "output_type": "execute_result",
          "data": {
            "text/plain": [
              "array([[0.00066844, 0.01112766, 0.0006995 , ..., 0.01527487, 0.00052915,\n",
              "        0.00136071],\n",
              "       [0.00054963, 0.01007713, 0.0005815 , ..., 0.0139311 , 0.00041958,\n",
              "        0.001158  ],\n",
              "       [0.00191065, 0.01891102, 0.00188538, ..., 0.02498081, 0.00183791,\n",
              "        0.00323298],\n",
              "       ...,\n",
              "       [0.00234678, 0.02095515, 0.00228817, ..., 0.02747503, 0.00234662,\n",
              "        0.00382876],\n",
              "       [0.00226075, 0.02056563, 0.0022089 , ..., 0.02700175, 0.002245  ,\n",
              "        0.00371279],\n",
              "       [0.00194227, 0.01905411, 0.00191389, ..., 0.02515811, 0.00187519,\n",
              "        0.00327632]], dtype=float32)"
            ]
          },
          "metadata": {},
          "execution_count": 88
        }
      ]
    },
    {
      "cell_type": "code",
      "source": [
        "\n",
        "mse = tf.keras.losses.mean_squared_error(test_data, reconstructions)\n",
        "\n",
        "threshold = tf.reduce_mean(mse) + tf.math.reduce_std(mse)\n",
        "print('threshold;{}'.format(threshold))"
      ],
      "metadata": {
        "colab": {
          "base_uri": "https://localhost:8080/"
        },
        "id": "Hw3VLu53Kkpo",
        "outputId": "40f612ca-85c7-449d-af6d-21b8679d316e"
      },
      "execution_count": 89,
      "outputs": [
        {
          "output_type": "stream",
          "name": "stdout",
          "text": [
            "threshold;0.0006198700866661966\n"
          ]
        }
      ]
    },
    {
      "cell_type": "code",
      "execution_count": 90,
      "metadata": {
        "id": "6edao6YDLKvo",
        "colab": {
          "base_uri": "https://localhost:8080/"
        },
        "outputId": "0a16308c-2ddf-4d55-eaa1-5384bb926858"
      },
      "outputs": [
        {
          "output_type": "stream",
          "name": "stdout",
          "text": [
            "number of anomalous detection; 972\n"
          ]
        }
      ],
      "source": [
        "\n",
        "\n",
        "is_anomalous = tf.greater(mse, threshold)\n",
        "\n",
        "# Print the indices of anomalous samples\n",
        "anomalous_indices = tf.where(is_anomalous)\n",
        "\n",
        "# print(\"Anomalous indices:\", anomalous_indices)\n",
        "print('number of anomalous detection;', len(anomalous_indices))\n"
      ]
    },
    {
      "cell_type": "code",
      "source": [
        "autoencoder.save_weights('my_model_weights.h5')"
      ],
      "metadata": {
        "id": "sIwYLA90NGxu"
      },
      "execution_count": 91,
      "outputs": []
    }
  ]
}